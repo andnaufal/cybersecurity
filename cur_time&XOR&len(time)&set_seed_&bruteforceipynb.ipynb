{
  "nbformat": 4,
  "nbformat_minor": 0,
  "metadata": {
    "colab": {
      "provenance": [],
      "authorship_tag": "ABX9TyOBZR51wnYcKbPJfGv3ddAX",
      "include_colab_link": true
    },
    "kernelspec": {
      "name": "python3",
      "display_name": "Python 3"
    },
    "language_info": {
      "name": "python"
    }
  },
  "cells": [
    {
      "cell_type": "markdown",
      "metadata": {
        "id": "view-in-github",
        "colab_type": "text"
      },
      "source": [
        "<a href=\"https://colab.research.google.com/github/andnaufal/cybersecurity/blob/main/cur_time%26XOR%26len(time)%26set_seed_%26bruteforceipynb.ipynb\" target=\"_parent\"><img src=\"https://colab.research.google.com/assets/colab-badge.svg\" alt=\"Open In Colab\"/></a>"
      ]
    },
    {
      "cell_type": "markdown",
      "source": [],
      "metadata": {
        "id": "oOta8skAx2Np"
      }
    },
    {
      "cell_type": "code",
      "source": [
        "#!/usr/bin/env python3\n",
        "import random\n",
        "import sys\n",
        "import time\n",
        "\n",
        "cur_time = str(time.time()).encode('ASCII')\n",
        "random.seed(cur_time)\n",
        "\n",
        "msg = input('Your message: ').encode('ASCII')\n",
        "key = [random.randrange(256) for _ in msg]\n",
        "c = [m ^ k for (m,k ) in zip(msg + cur_time, key + [0x88]*len(cur_time))]\n",
        "\n",
        "with open(sys.argv[1], \"wb\") as f:\n",
        "    f.write(bytes(c))"
      ],
      "metadata": {
        "id": "NUBVGtMczYOd"
      },
      "execution_count": null,
      "outputs": []
    },
    {
      "cell_type": "code",
      "execution_count": null,
      "metadata": {
        "id": "Bl0Saxtx0I5h"
      },
      "outputs": [],
      "source": [
        "#to solve this challenge, we can try to find some weaknesses in the given algorithm\n",
        "#we can debug it\n",
        "\n",
        "import random\n",
        "import sys\n",
        "import time\n",
        "import gdown\n"
      ]
    },
    {
      "cell_type": "code",
      "source": [
        "\n",
        "# =============================================================================\n",
        "# step 1 - set seed\n",
        "# =============================================================================\n",
        "cur_time = str(time.time()).encode('ASCII')\n",
        "random.seed(cur_time)\n",
        "\n",
        "print('Step 1-  current time:\\t', cur_time)\n",
        "print('the lenght of cur_time is', len(cur_time))\n",
        "\n",
        "#note1: current time is a byte value containing a number, which will set a seed\n",
        "#floating value"
      ],
      "metadata": {
        "colab": {
          "base_uri": "https://localhost:8080/"
        },
        "id": "KLUfIugp0PTn",
        "outputId": "e2b868ab-dd10-4d11-b126-93af668ad9f0"
      },
      "execution_count": null,
      "outputs": [
        {
          "output_type": "stream",
          "name": "stdout",
          "text": [
            "Step 1-  current time:\t b'1706191160.25658'\n",
            "the lenght of cur_time is 16\n"
          ]
        }
      ]
    },
    {
      "cell_type": "code",
      "source": [
        "\n",
        "# =============================================================================\n",
        "#  step 2 - get message\n",
        "# =============================================================================\n",
        "msg = 'hello'.encode('ASCII')\n",
        "print(msg)\n"
      ],
      "metadata": {
        "colab": {
          "base_uri": "https://localhost:8080/"
        },
        "id": "Ip0-jihi0Vh9",
        "outputId": "feb89777-c26f-42cd-cdfe-88da33f1ded2"
      },
      "execution_count": null,
      "outputs": [
        {
          "output_type": "stream",
          "name": "stdout",
          "text": [
            "b'hello'\n"
          ]
        }
      ]
    },
    {
      "cell_type": "code",
      "source": [
        "\n",
        "# =============================================================================\n",
        "# step 3 - define the key\n",
        "# =============================================================================\n",
        "key = [random.randrange(256) for _ in msg]\n",
        "print(key)\n",
        "\n",
        "#the key is a list of values = len(len of messages)\n",
        "# one value for each character in the message\n",
        "\n"
      ],
      "metadata": {
        "colab": {
          "base_uri": "https://localhost:8080/"
        },
        "id": "UqrgW_2z0Y7m",
        "outputId": "61a8d440-17a0-4d70-fe18-e52c11d5f686"
      },
      "execution_count": null,
      "outputs": [
        {
          "output_type": "stream",
          "name": "stdout",
          "text": [
            "[30, 195, 71, 199, 128]\n"
          ]
        }
      ]
    },
    {
      "cell_type": "code",
      "source": [
        "\n",
        "# =============================================================================\n",
        "# step 4 - encryption\n",
        "# =============================================================================\n",
        "c = [m ^ k for (m,k ) in zip(msg + cur_time, key + [0x88]*len(cur_time))]\n",
        "\n",
        "#the encryption is composed by a xor between a character + time and a key.\n",
        "#the message is the concatenation of msg + cur_time\n",
        "#the key is the concatenation of the list of keys + list of 0x88\n",
        "\n",
        "print(c)\n"
      ],
      "metadata": {
        "colab": {
          "base_uri": "https://localhost:8080/"
        },
        "id": "3CLu81Mo0a5X",
        "outputId": "8b5fcb4b-4810-4fdb-bcd2-8be2a35d0c0f"
      },
      "execution_count": null,
      "outputs": [
        {
          "output_type": "stream",
          "name": "stdout",
          "text": [
            "[118, 166, 43, 171, 239, 185, 191, 184, 190, 185, 177, 185, 185, 190, 184, 166, 186, 189, 190, 189, 176]\n"
          ]
        }
      ]
    },
    {
      "cell_type": "code",
      "source": [
        "\n",
        "####--------RESOLUTION -----------------\n",
        "#we know that |msg| = |key|, and |cur_time| = |[0x88]|\n",
        "#we can use the xor property to retrieve the cur_time of the execution\n",
        "\n",
        "# Specify the Google Drive file ID\n",
        "file_id = '1CXLSMDesR0qpLTjgysul8hdrdJ-EeOK1'\n",
        "\n",
        "# Specify the output file path\n",
        "output_path = 'top_secret'\n",
        "\n",
        "# Download the file\n",
        "gdown.download(f'https://drive.google.com/uc?id={file_id}', output_path, quiet=False)\n",
        "\n",
        "# Check if the file exists\n",
        "if os.path.exists(output_path):\n",
        "    # Read the content of the downloaded file\n",
        "    with open(output_path, 'rb') as f:\n",
        "        secret = f.read()\n",
        "    print(len(secret))\n",
        "else:\n",
        "    print(f\"File '{output_path}' not found.\")\n",
        "\n",
        "#read the secret\n",
        "with open(\"top_secret\", \"rb\") as f:\n",
        "    secret = f.read()\n",
        "print(len(secret))\n",
        "print(secret)\n"
      ],
      "metadata": {
        "colab": {
          "base_uri": "https://localhost:8080/"
        },
        "id": "ukyq59Ei0dlS",
        "outputId": "78384599-2e17-4038-920b-8f13a67e48af"
      },
      "execution_count": null,
      "outputs": [
        {
          "output_type": "stream",
          "name": "stderr",
          "text": [
            "Downloading...\n",
            "From: https://drive.google.com/uc?id=1CXLSMDesR0qpLTjgysul8hdrdJ-EeOK1\n",
            "To: /content/top_secret\n",
            "100%|██████████| 75.0/75.0 [00:00<00:00, 81.9kB/s]"
          ]
        },
        {
          "output_type": "stream",
          "name": "stdout",
          "text": [
            "75\n",
            "75\n",
            "b'\\tf\\xb8\\x9d,\\xb9\\xdaf\\x9cX\\x82^\\xdf\\xf7\\x94\\x00qD\\xb58{\\xbbtI\\xb1y\\x1b\\x86\\x95\\x1aVu\\xb3\\xde[\\x9dH\\xb0 \\xc5\\x86\\xfd\\xe3\"\\x0e \\xbf\\xf4\\xb4\\x1foV\\x8e\\xa5\\x08\\xa9\\x97\\xb9\\xbd\\xb9\\xbb\\xbf\\xb9\\xb1\\xb9\\xbb\\xbb\\xa6\\xb0\\xbf\\xba\\xb0\\xbf\\xbd\\xba'\n"
          ]
        },
        {
          "output_type": "stream",
          "name": "stderr",
          "text": [
            "\n"
          ]
        }
      ]
    },
    {
      "cell_type": "markdown",
      "source": [
        "#### bruteforce\n",
        "Dalam contoh ini, sistem mencoba berbagai nilai seed dengan cara melakukan XOR pada waktu yang dienkripsi (sec_time). Proses ini dilakukan sampai nilai seed yang benar ditemukan, yang dapat menghasilkan kunci acak yang tepat untuk mendekripsi pesan.\n",
        "\n",
        "It brute-forces the original seed used to generate the random key by XORing sec_time with a known value ([0x88]*len(cur_time)).\n",
        "It then sets this known seed and generates the random key (keys_secret).\n",
        "Finally, it XORs the generated key with the secret to obtain the decrypted message (plain_text)."
      ],
      "metadata": {
        "id": "XusvXXx1NaCY"
      }
    },
    {
      "cell_type": "code",
      "source": [
        "\n",
        "#extract the encrypted current time\n",
        "sec_time = secret[-len(cur_time):]\n",
        "plain_time = ''.join([chr(m ^ k) for (m, k) in zip(sec_time, [0x88]*len(cur_time))]) #bruteforce\n",
        "print(f\"plain time:\\t{plain_time}\")\n",
        "#what we printed seems a correct datatime format\n"
      ],
      "metadata": {
        "colab": {
          "base_uri": "https://localhost:8080/"
        },
        "id": "LBEBKfr80hK7",
        "outputId": "7e448692-058c-477d-e04a-2cfc2742e8a1"
      },
      "execution_count": null,
      "outputs": [
        {
          "output_type": "stream",
          "name": "stdout",
          "text": [
            "plain time:\t13719133.8728752\n"
          ]
        }
      ]
    },
    {
      "cell_type": "markdown",
      "source": [
        "I made an assumption based on the example code provided, where cur_time is set to \"12\". The length of the string \"12\" is indeed 2 characters. However, in a real-world scenario, the length of cur_time could vary depending on the format or representation of the current time."
      ],
      "metadata": {
        "id": "lEokNl0z4Z7q"
      }
    },
    {
      "cell_type": "code",
      "source": [
        "#we now leverage on the pseudonumber vulnerabilities ...\n",
        "#the algorithm set a seed, so it is not random the generator.\n",
        "random.seed(plain_time.encode(\"ASCII\"))\n"
      ],
      "metadata": {
        "id": "Ea83Jt4K0iaq"
      },
      "execution_count": null,
      "outputs": []
    },
    {
      "cell_type": "code",
      "source": [
        "#get the keys\n",
        "keys_secret = [random.randrange(256) for _ in secret[:-len(cur_time)]]\n",
        "plain_text = ''.join([chr(m ^ k) for (m, k) in zip(secret[:-len(cur_time)], keys_secret)])\n",
        "print(plain_text)\n",
        "\n",
        "#flag reached\n",
        "# Here is your flag: 34C3_otp_top_pto_pot_tpo_opt_wh0_c"
      ],
      "metadata": {
        "colab": {
          "base_uri": "https://localhost:8080/"
        },
        "id": "kcxryJcu0jRB",
        "outputId": "be5c75a6-3bda-4026-d61b-a735c4b01889"
      },
      "execution_count": null,
      "outputs": [
        {
          "output_type": "stream",
          "name": "stdout",
          "text": [
            "\\8ÒZ~n³cA\u001cÜ\u0019Xl³ÖN\u0019È/\u0003¥ÄÚÊ´0RSY\tÑ\u000f\u0019\u0019áö\r9\u001bÀsrFÙe©\u001e\u001b\u0011\n"
          ]
        }
      ]
    }
  ]
}