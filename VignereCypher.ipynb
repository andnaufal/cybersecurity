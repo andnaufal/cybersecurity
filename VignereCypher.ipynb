{
  "nbformat": 4,
  "nbformat_minor": 0,
  "metadata": {
    "colab": {
      "provenance": [],
      "authorship_tag": "ABX9TyPPWUDV7000GelYfryZ/O4R",
      "include_colab_link": true
    },
    "kernelspec": {
      "name": "python3",
      "display_name": "Python 3"
    },
    "language_info": {
      "name": "python"
    }
  },
  "cells": [
    {
      "cell_type": "markdown",
      "metadata": {
        "id": "view-in-github",
        "colab_type": "text"
      },
      "source": [
        "<a href=\"https://colab.research.google.com/github/andnaufal/cybersecurity/blob/main/VignereCypher.ipynb\" target=\"_parent\"><img src=\"https://colab.research.google.com/assets/colab-badge.svg\" alt=\"Open In Colab\"/></a>"
      ]
    },
    {
      "cell_type": "code",
      "execution_count": null,
      "metadata": {
        "colab": {
          "base_uri": "https://localhost:8080/"
        },
        "id": "50lv5pSGBRBA",
        "outputId": "005a1a3a-2e16-49a3-b0e7-018cc6006946"
      },
      "outputs": [
        {
          "output_type": "stream",
          "name": "stdout",
          "text": [
            "Step=-30\tXJKZQKGGOMUMVQT[Y\\XJZ\\KLSPK\n",
            "Step=-29\tYKL[RLHHPNVNWRU\\Z]YK[]LMTQL\n",
            "Step=-28\tZLM\\SMIIQOWOXSV][^ZL\\^MNURM\n",
            "Step=-27\t[MN]TNJJRPXPYTW^\\_[M]_NOVSN\n",
            "Step=-26\t\\NO^UOKKSQYQZUX_]`\\N^`OPWTO\n",
            "Step=-25\t]OP_VPLLTRZR[VY`^a]O_aPQXUP\n",
            "Step=-24\t^PQ`WQMMUS[S\\WZa_b^P`bQRYVQ\n",
            "Step=-23\t_QRaXRNNVT\\T]X[b`c_QacRSZWR\n",
            "Step=-22\t`RSbYSOOWU]U^Y\\cad`RbdST[XS\n",
            "Step=-21\taSTcZTPPXV^V_Z]dbeaSceTU\\YT\n",
            "Step=-20\tbTUd[UQQYW_W`[^ecfbTdfUV]ZU\n",
            "Step=-19\tcUVe\\VRRZX`Xa\\_fdgcUegVW^[V\n",
            "Step=-18\tdVWf]WSS[YaYb]`gehdVfhWX_\\W\n",
            "Step=-17\teWXg^XTT\\ZbZc^ahfieWgiXY`]X\n",
            "Step=-16\tfXYh_YUU][c[d_bigjfXhjYZa^Y\n",
            "Step=-15\tgYZi`ZVV^\\d\\e`cjhkgYikZ[b_Z\n",
            "Step=-14\thZ[ja[WW_]e]fadkilhZjl[\\c`[\n",
            "Step=-13\ti[\\kb\\XX`^f^gbeljmi[km\\]da\\\n",
            "Step=-12\tj\\]lc]YYa_g_hcfmknj\\ln]^eb]\n",
            "Step=-11\tk]^md^ZZb`h`idgnlok]mo^_fc^\n",
            "Step=-10\tl^_ne_[[caiajehompl^np_`gd_\n",
            "Step=-9\tm_`of`\\\\dbjbkfipnqm_oq`ahe`\n",
            "Step=-8\tn`apga]]eckclgjqorn`prabifa\n",
            "Step=-7\toabqhb^^fdldmhkrpsoaqsbcjgb\n",
            "Step=-6\tpbcric__gemenilsqtpbrtcdkhc\n",
            "Step=-5\tqcdsjd``hfnfojmtruqcsudelid\n",
            "Step=-4\trdetkeaaigogpknusvrdtvefmje\n",
            "Step=-3\tsefulfbbjhphqlovtwseuwfgnkf\n",
            "Step=-2\ttfgvmgcckiqirmpwuxtfvxgholg\n",
            "Step=-1\tughwnhddljrjsnqxvyugwyhipmh\n",
            "Step=0\tvhixoieemksktorywzvhxzijqni\n",
            "Step=1\twijypjffnltlupszx{wiy{jkroj\n",
            "Step=2\txjkzqkggomumvqt{y|xjz|klspk\n",
            "Step=3\tykl{rlhhpnvnwru|z}yk{}lmtql\n",
            "Step=4\tzlm|smiiqowoxsv}{~zl|~mnurm\n",
            "Step=5\t{mn}tnjjrpxpytw~|{m}novsn\n",
            "Step=6\t|no~uokksqyqzux}|n~opwto\n",
            "Step=7\t}opvplltrzr{vy~}opqxup\n",
            "Step=8\t~pqwqmmus{s|wz~pqryvq\n",
            "Step=9\tqrxrnnvt|t}x{qrszwr\n",
            "Step=10\trsysoowu}u~y|rst{xs\n",
            "Step=11\tstztppxv~vz}stu|yt\n",
            "Step=12\ttu{uqqyww{~tuv}zu\n",
            "Step=13\tuv|vrrzxx|uvw~{v\n",
            "Step=14\tvw}wss{yy}vwx|w\n",
            "Step=15\twx~xtt|zz~wxy}x\n",
            "Step=16\txyyuu}{{xyz~y\n",
            "Step=17\tyzzvv~||yz{z\n",
            "Step=18\tz{{ww}}z{|{\n",
            "Step=19\t{||xx~~{|}|\n",
            "Step=20\t|}}yy|}~}\n",
            "Step=21\t}~~zz}~~\n",
            "Step=22\t~{{~\n",
            "Step=23\t||\n",
            "Step=24\t}}\n",
            "Step=25\t~~\n",
            "Step=26\t\n",
            "Step=27\t\n",
            "Step=28\t\n",
            "Step=29\t\n"
          ]
        }
      ],
      "source": [
        "puzzle_dec = 'vhixoieemksktorywzvhxzijqni'\n",
        "\n",
        "def ceasar_cracker(text, from_ = -30, to_=+30):\n",
        "    for i in range(from_, to_): #possible keys [-30, 30]\n",
        "        #decode\n",
        "        curr_step = ''.join([chr(ord(c) + i) for c in text])\n",
        "\n",
        "        #print\n",
        "        print(f\"Step={i}\\t{curr_step}\")\n",
        "\n",
        "ceasar_cracker(puzzle_dec)"
      ]
    },
    {
      "cell_type": "code",
      "source": [
        "######## Made By Mouad Khiat\n",
        "######## This script is the Famous Vigenere cipher its like caesar that ive made in the previous gist\n",
        "######## but the difference is that we deal here with letters not numbers\n",
        "######## So with this script you can encrypt anything you want with your given key , decrypt it either with a key or a part of it\n",
        "######## or by guessing\n",
        "\n",
        "from random import sample\n",
        "from itertools import product as col\n",
        "\n",
        "\n",
        "def generator(key,char,length):\n",
        "    char_len = key.count(char)\n",
        "    key_piece = key[:length - char_len:]\n",
        "    list_keys = [key_piece+\"\".join(i) for i in list(col([chr(i) for i in range(65, 65+26)], repeat=char_len))]\n",
        "    return list_keys\n",
        "\n",
        "def vigenere(x,key):\n",
        "    lst_final = []\n",
        "    code = list(x)\n",
        "    j = 0\n",
        "\n",
        "    for i,char in enumerate(code):\n",
        "        if char.isalpha():\n",
        "            code[i] = key[(i+j)%len(key)]\n",
        "            if encrypt:\n",
        "                lst_final.append((ord(x[i]) + ord(code[i]) - 65 * 2) % 26)\n",
        "            else:\n",
        "                lst_final.append((ord(x[i]) - ord(code[i])) % 26)\n",
        "        else:\n",
        "            lst_final.append(ord(char))\n",
        "            j -=1\n",
        "\n",
        "    for i,char in enumerate(code):\n",
        "        if char.isalpha():\n",
        "            lst_final[i] = chr(lst_final[i] + 65)\n",
        "        else:\n",
        "            lst_final[i] = chr(lst_final[i])\n",
        "\n",
        "    return ''.join(lst_final)\n",
        "\n",
        "print(\"Welcome to Vigenere cipher\")\n",
        "\n",
        "if input('Encrypt or Decrypt : ').lower() == 'encrypt':\n",
        "    x = input('Enter the text : ').upper()\n",
        "    key = input('Enter the key : ').upper()\n",
        "    encrypt = True\n",
        "    print(vigenere(x,key))\n",
        "else:\n",
        "    x = input('text : ').upper()\n",
        "    encrypt = False\n",
        "    if input('have you the key (y/n) : ') == \"y\":\n",
        "        key = input('Enter the key : ').upper()\n",
        "        print(vigenere(x,key))\n",
        "    else:\n",
        "        abc = list(\"ABCDEFGHIJKHIJKLMNOPQRSTUVWXYZ\")\n",
        "        question = input('Enter a part of the key or length (answer by 1 or 2 or nothing): ')\n",
        "        if question == '1':\n",
        "            key = input('*use \\'?\\' for the missing letter in the key (C?? or CL? refer for ex to CLE): ').upper()\n",
        "            list_of_keys = generator(key,'?',len(key))\n",
        "            for k in list_of_keys:\n",
        "                print(f'for {k} ==> {vigenere(x,k)}')\n",
        "\n",
        "        elif question == '2':\n",
        "            length = int(input('Enter the length: '))\n",
        "            while True:\n",
        "                key_gen = ''.join(sample(abc,length))\n",
        "                print(f\"for {key_gen} = {vigenere(x,key_gen)}\")\n",
        "                if input('continue(y/n) ... : ')== \"n\":\n",
        "                    break\n",
        "        else:\n",
        "            print(\"S0rry this script cannot find your encrypted text\")"
      ],
      "metadata": {
        "colab": {
          "base_uri": "https://localhost:8080/"
        },
        "id": "lCGlggAdDzFv",
        "outputId": "586a3b1e-f87c-4cb8-e2f2-0712b7e9f65e"
      },
      "execution_count": null,
      "outputs": [
        {
          "output_type": "stream",
          "name": "stdout",
          "text": [
            "Welcome to Vigenere cipher\n",
            "Encrypt or Decrypt : decrypt\n",
            "text : vhixoieemksktorywzvhxzijqni\n",
            "have you the key (y/n) : y\n",
            "Enter the key : caesar\n",
            "THEFORCEISSTRONGWITHTHISONE\n"
          ]
        }
      ]
    }
  ]
}