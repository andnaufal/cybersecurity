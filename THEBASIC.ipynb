{
  "nbformat": 4,
  "nbformat_minor": 0,
  "metadata": {
    "colab": {
      "provenance": []
    },
    "kernelspec": {
      "name": "python3",
      "display_name": "Python 3"
    },
    "language_info": {
      "name": "python"
    }
  },
  "cells": [
    {
      "cell_type": "markdown",
      "source": [
        "how to read a file"
      ],
      "metadata": {
        "id": "trBy1txM3dvq"
      }
    },
    {
      "cell_type": "code",
      "execution_count": null,
      "metadata": {
        "id": "hlZqj3vs3UTD"
      },
      "outputs": [],
      "source": [
        "file_path = \"/Users/naufal/Downloads/Challenges-6/2_sherlock/challenge.txt\"\n",
        "\n",
        "with open(file_path, 'r') as file:\n",
        "    challenge = file.read()"
      ]
    },
    {
      "cell_type": "markdown",
      "source": [
        "Replace letter to number"
      ],
      "metadata": {
        "id": "8RzdA0Dt3ptM"
      }
    },
    {
      "cell_type": "code",
      "source": [
        "#open the file\n",
        "file_path = \"/Users/naufal/Downloads/Challenges-6/3_ultraencoded/zero_one\"\n",
        "\n",
        "with open(file_path, 'r') as file:\n",
        "    input = file.read()\n",
        "\n",
        "#print(input)\n",
        "\n",
        "#replace the zeros and ones in the numerical representation\n",
        "input = input.replace('ZERO', '0')\n",
        "input = input.replace('ONE', '1')\n",
        "input = input.replace(' ', '') #remove additional spaces"
      ],
      "metadata": {
        "id": "y4y1ONf43sCw"
      },
      "execution_count": null,
      "outputs": []
    },
    {
      "cell_type": "markdown",
      "source": [
        "ASCII/Binary Cracker"
      ],
      "metadata": {
        "id": "lRlAZIts3uPy"
      }
    },
    {
      "cell_type": "code",
      "source": [
        "#open the file\n",
        "file_path = \"/Users/naufal/Downloads/Challenges-6/3_ultraencoded/zero_one\"\n",
        "\n",
        "with open(file_path, 'r') as file:\n",
        "    input = file.read()\n",
        "\n",
        "#print(input)\n",
        "\n",
        "#replace the zeros and ones in the numerical representation\n",
        "input = input.replace('ZERO', '0')\n",
        "input = input.replace('ONE', '1')\n",
        "input = input.replace(' ', '') #remove additional spaces\n",
        "\n",
        "#remove the additional spaces\n",
        "input = input.strip()\n",
        "\n",
        "print(len(input))\n",
        "\n",
        "#since it is a multiple of 8, we can think that this is a series of\n",
        "#ascii characters\n",
        "result=''.join(chr(int(input[i*8:i*8+8],2)) for i in range(len(input)//8))\n",
        "print(result)"
      ],
      "metadata": {
        "id": "EHvGqwjV3t9q"
      },
      "execution_count": null,
      "outputs": []
    },
    {
      "cell_type": "markdown",
      "source": [
        "XOR operation between 2 data to obtain key in python"
      ],
      "metadata": {
        "id": "51_yuuPr34XN"
      }
    },
    {
      "cell_type": "code",
      "source": [
        "original_data = \"El Psy Congroo\"\n",
        "\n",
        "#decode the encryption from base64\n",
        "enc_data= base64tostring(encrypted_data)\n",
        "print(enc_data)\n",
        "enc_flag= base64tostring(encrypted_flag)\n",
        "print(enc_flag)\n",
        "\n",
        "\n",
        "#we know apply the xor to obtain the key\n",
        "key = ''.join([chr(ord(x) ^ ord(y))for x, y in zip(original_data, enc_data)])"
      ],
      "metadata": {
        "id": "Z9zkNaBL37O2"
      },
      "execution_count": null,
      "outputs": []
    },
    {
      "cell_type": "markdown",
      "source": [
        "XOR Operation when u know the key"
      ],
      "metadata": {
        "id": "RemDRsh-393a"
      }
    },
    {
      "cell_type": "code",
      "source": [
        "def xor_encryption(text, key):\n",
        "    # Initialize an empty string for encrypted text\n",
        "    encrypted_text = \"\"\n",
        "\n",
        "    # Iterate over each character in the text\n",
        "    for i in range(len(text)):\n",
        "        encrypted_text += chr(ord(text[i]) ^ ord(key[i % len(key)]))\n",
        "\n",
        "    # Return the encrypted text\n",
        "    return encrypted_text\n",
        "\n",
        "# Function to perform XOR encryption\n",
        "def xor_encryption(text, key):\n",
        "    # Initialize an empty string for encrypted text\n",
        "    encrypted_text = \"\"\n",
        "\n",
        "    # Iterate over each character in the text\n",
        "    for i in range(len(text)):\n",
        "        encrypted_text += chr(ord(text[i]) ^ ord(key[i % len(key)]))\n",
        "\n",
        "    # Return the encrypted text\n",
        "    return encrypted_text\n",
        "\n",
        "# The plaintext that we want to encrypt\n",
        "plain_text = \"Educative Accelerates Developer Productivity\"\n",
        "# The secret key used for encryption\n",
        "key = \"Edu_key\"\n",
        "\n",
        "# Encrypt the plain_text using the key\n",
        "encrypted_text = xor_encryption(plain_text, key)\n",
        "# Print the encrypted text\n",
        "print(f'Encrypted Text: {encrypted_text}')"
      ],
      "metadata": {
        "id": "bfSyYjiN4Ce_"
      },
      "execution_count": null,
      "outputs": []
    },
    {
      "cell_type": "markdown",
      "source": [
        "run docker"
      ],
      "metadata": {
        "id": "FqwCUuCz4b4u"
      }
    },
    {
      "cell_type": "code",
      "source": [
        "Javascript is checking the login password off of an ajax call, The verification is being done on the client side.\n",
        "making a direct call to the ajax page will return the expected password\n",
        "\n",
        "RULES = you don't have access to the 'web' folder.\n",
        "\n",
        "Be sure that the the entire folder has the right permissions.\n",
        "To do it, open the terminal and write\n",
        "chmod -R +rx ./\n",
        "\n",
        "REMEMBER: do this operation for every exercise.\n",
        "\n",
        "To execute the exercise, do the following on the terminal\n",
        "\n",
        "sudo ./docker_build.sh\n",
        "\n",
        "and then\n",
        "\n",
        "sudo ./docker_run.sh\n",
        "\n",
        "Check inside docker_run the ip:port to use (in this case 127.0.0.1:8085)\n",
        "\n",
        "chmod -R +rx ./\n",
        "\n",
        "sudo ./docker_build.sh\n",
        "\n",
        "sudo ./docker_run.sh\n",
        "\n",
        "sudo docker-compose up"
      ],
      "metadata": {
        "id": "7AyPWBaL4dEv"
      },
      "execution_count": null,
      "outputs": []
    },
    {
      "cell_type": "markdown",
      "source": [
        "run flask"
      ],
      "metadata": {
        "id": "yiInBGfR4eN6"
      }
    },
    {
      "cell_type": "code",
      "source": [
        "#cd open termnal di foldernya\n",
        "export FLASK_APP=chall.py\n",
        "flask.run"
      ],
      "metadata": {
        "id": "7j6aUMUS4d4U"
      },
      "execution_count": null,
      "outputs": []
    },
    {
      "cell_type": "markdown",
      "source": [
        "IDA"
      ],
      "metadata": {
        "id": "zoLsk6c54wIR"
      }
    },
    {
      "cell_type": "markdown",
      "source": [
        "Similar with the one in solution file, tapi gua mau nambahin sedikit detail\n",
        "\n",
        "1. Analysis what the program does, as always. In this case karena pin selalu berubah, susah buat bisa nebak pin yang bener. In that case, kita ubah fungsinya dari yang “kalau pin benar maka tampilkan bank account”, jadi “kalau pin salah maka tampilkan bank account”. In this case, yang berperan adalah jnz dari file program yang artinya jump if not zero, dan kita mau ganti adi jz, jump if zero\n",
        "2. Klik jnz dan buka hex view, kita lihat hex buat jnz itu 75, dan menurut web http://www.unixwiz.net/techtips/x86-jumps.html hex buat jz itu 74\n",
        "3. To edit: klik kanan, klik edit lalu edit. Kalau udah, klik kanan lagi, lalu save changes atau apply changes. Cek ke ida view jnz udah berubah jadi jz atau belum\n",
        "4. Ke tab Edit di atas → patch program → apply patch to input file, terus coba run lagi bankAccount nya dan masukin pin berapapun"
      ],
      "metadata": {
        "id": "JXFYitGp4yGB"
      }
    },
    {
      "cell_type": "markdown",
      "source": [
        "# how to edit code in IDA\n",
        "\n",
        "Here’s a general process to ensure changes are applied to the actual code:\n",
        "\n",
        "1. **Make Changes in IDA:**\n",
        "Edit the assembly code or data within IDA as needed.\n",
        "2. **Apply Changes:**\n",
        "Once you've made the necessary edits, there's typically an option in IDA to commit these changes.\n",
        "3. **Patch the Binary:**\n",
        "    - IDA might have a feature to apply patches directly to the executable. Look for options like \"Create Patch File\" or \"Apply Patch\" which will save your changes to a new file.\n",
        "    - Alternatively, IDA might have options to write changes directly back to the original executable. This might be under a menu like \"File\" or \"Edit.\"\n",
        "4. **Verify Changes:**\n",
        "After applying the changes, it's crucial to verify them.\n",
        "    - Review the disassembled code again in IDA to ensure the changes are reflected there.\n",
        "    - Test the modified executable to confirm that the changes have taken effect as intended. Be cautious as changes can introduce unintended consequences.\n",
        "5. **Save Backup Copies:**\n",
        "Before applying changes to the original executable, always save backups. This is crucial as erroneous changes could corrupt the file, rendering it unusable.\n",
        "6. **Understanding Limitations:**\n",
        "    - Not all changes can be applied directly to the executable. Some changes might be too complex or intertwined within the binary to be safely modified.\n",
        "    - Certain protections or permissions on the file might prevent modifications. Ensure that you have the necessary permissions to write to the executable."
      ],
      "metadata": {
        "id": "olOk8u4y4K9Y"
      }
    },
    {
      "cell_type": "markdown",
      "source": [
        "#buffer overflow\n",
        "1. Go to the folder with the file and then klik kanan, open in terminal\n",
        "2. write “ gcc (NAMA FILE).c -o (NAMA FILE) -fno-stack-protector -z execstack -no-pie “ buat ngilangin pertahanannya\n",
        "3. use ltrace ./(NAMA FILENYA) lalu lihat jawaban kita dicompare sama siapa\n",
        "\n",
        "---\n",
        "\n",
        "1. on the folder, write gdb\n",
        "2. abis itu file (NAMA FILENYA)\n",
        "3. info function\n",
        "4. disassemble main"
      ],
      "metadata": {
        "id": "hBNd4-Ag4OG2"
      }
    },
    {
      "cell_type": "markdown",
      "source": [],
      "metadata": {
        "id": "aV0AR-Rz4UJS"
      }
    }
  ]
}